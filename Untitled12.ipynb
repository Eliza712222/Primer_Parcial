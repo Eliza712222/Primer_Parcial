{
  "nbformat": 4,
  "nbformat_minor": 0,
  "metadata": {
    "colab": {
      "provenance": [],
      "authorship_tag": "ABX9TyM2ks8Q5+1On9EPY8g5tgER",
      "include_colab_link": true
    },
    "kernelspec": {
      "name": "python3",
      "display_name": "Python 3"
    },
    "language_info": {
      "name": "python"
    }
  },
  "cells": [
    {
      "cell_type": "markdown",
      "metadata": {
        "id": "view-in-github",
        "colab_type": "text"
      },
      "source": [
        "<a href=\"https://colab.research.google.com/github/Eliza712222/Primer_Parcial/blob/main/Untitled12.ipynb\" target=\"_parent\"><img src=\"https://colab.research.google.com/assets/colab-badge.svg\" alt=\"Open In Colab\"/></a>"
      ]
    },
    {
      "cell_type": "code",
      "execution_count": 1,
      "metadata": {
        "colab": {
          "base_uri": "https://localhost:8080/"
        },
        "id": "3VEc9JZUxUiR",
        "outputId": "6572ff23-5253-43e6-c945-d949315a2c58"
      },
      "outputs": [
        {
          "output_type": "stream",
          "name": "stdout",
          "text": [
            "Ingresa una oración: You O pera HUgo\n",
            "y : 1\n",
            "o : 3\n",
            "u : 2\n",
            "p : 1\n",
            "e : 1\n",
            "r : 1\n",
            "a : 1\n",
            "h : 1\n",
            "g : 1\n"
          ]
        }
      ],
      "source": [
        "# Codigo numero 1\n",
        "# Pedir una oración al usuario\n",
        "oracion = input(\"Ingresa una oración: \")\n",
        "\n",
        "# Convertir la oración a minúsculas\n",
        "oracion = oracion.lower()\n",
        "\n",
        "# Quitar los espacios de la oración\n",
        "oracion = oracion.replace(\" \", \"\")\n",
        "\n",
        "# Crear un diccionario vacío para guardar las frecuencias\n",
        "frecuencia = {}\n",
        "\n",
        "# Recorrer cada letra de la oración\n",
        "for letra in oracion:\n",
        "    # Si la letra ya está en el diccionario, sumar 1\n",
        "    if letra in frecuencia:\n",
        "        frecuencia[letra] += 1\n",
        "    # Si no está, agregarla con valor 1\n",
        "    else:\n",
        "        frecuencia[letra] = 1\n",
        "\n",
        "# Mostrar el resultado\n",
        "for letra in frecuencia:\n",
        "    print(letra, \":\", frecuencia[letra])"
      ]
    }
  ]
}